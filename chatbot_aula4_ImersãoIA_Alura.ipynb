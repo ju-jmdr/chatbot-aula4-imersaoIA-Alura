{
  "nbformat": 4,
  "nbformat_minor": 0,
  "metadata": {
    "colab": {
      "provenance": [],
      "authorship_tag": "ABX9TyMtLG1K7oKG0TTI8/WikWH1",
      "include_colab_link": true
    },
    "kernelspec": {
      "name": "python3",
      "display_name": "Python 3"
    },
    "language_info": {
      "name": "python"
    }
  },
  "cells": [
    {
      "cell_type": "markdown",
      "metadata": {
        "id": "view-in-github",
        "colab_type": "text"
      },
      "source": [
        "<a href=\"https://colab.research.google.com/github/ju-jmdr/chatbot-aula4-imersaoIA-Alura/blob/main/chatbot_aula4_Imers%C3%A3oIA_Alura.ipynb\" target=\"_parent\"><img src=\"https://colab.research.google.com/assets/colab-badge.svg\" alt=\"Open In Colab\"/></a>"
      ]
    },
    {
      "cell_type": "markdown",
      "source": [
        "![imersaoIA-Alura-banner.jpg](data:image/jpeg;base64,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)"
      ],
      "metadata": {
        "id": "Ja3aWqV0ri75"
      }
    },
    {
      "cell_type": "markdown",
      "source": [
        "O projeto a seguir trata-se do desenvolvimento de um **chatbot** que faz o uso da **inteligência artificial generativa do Google**, o modelo **Gemini**.\n",
        "\n",
        "Ele foi desenvolvido com o auxílio das instruções fornecidas na aula 4 da **imersão IA da Alura** em parceria com o **Google** e a **FIAP**.\n",
        "*   Linguagem de programação: Python"
      ],
      "metadata": {
        "id": "ZZcmXSUPr-_K"
      }
    },
    {
      "cell_type": "markdown",
      "source": [
        "Instalando o SDK do Google."
      ],
      "metadata": {
        "id": "aQHOLhly_TcI"
      }
    },
    {
      "cell_type": "code",
      "execution_count": 1,
      "metadata": {
        "id": "9sa31crx_Jw7"
      },
      "outputs": [],
      "source": [
        "!pip install -q -U google-generativeai"
      ]
    },
    {
      "cell_type": "markdown",
      "source": [
        " Configurando o ambiente para que você possa usar a API Generative AI do Google em seu código Python, utilizando a sua chave de API para autenticação.\n",
        "\n",
        "\n"
      ],
      "metadata": {
        "id": "6x7fzK75Ars2"
      }
    },
    {
      "cell_type": "code",
      "source": [
        "# Import the Python SDK\n",
        "import google.generativeai as genai\n",
        "\n",
        "from google.colab import userdata\n",
        "\n",
        "GOOGLE_API_KEY = userdata.get('SECRET_KEY')\n",
        "genai.configure(api_key=GOOGLE_API_KEY)"
      ],
      "metadata": {
        "id": "ym5ymsjI__EE"
      },
      "execution_count": 2,
      "outputs": []
    },
    {
      "cell_type": "markdown",
      "source": [
        "Listando os modelos disponíveis:"
      ],
      "metadata": {
        "id": "_2BnKbKlAKWE"
      }
    },
    {
      "cell_type": "code",
      "source": [
        "for modelos in genai.list_models():\n",
        "  if 'generateContent' in modelos.supported_generation_methods:\n",
        "    print(modelos.name)"
      ],
      "metadata": {
        "colab": {
          "base_uri": "https://localhost:8080/",
          "height": 139
        },
        "id": "7D-rCx8vAGYS",
        "outputId": "a2e89585-75d8-4551-8681-58c219c2c6c6"
      },
      "execution_count": 3,
      "outputs": [
        {
          "output_type": "stream",
          "name": "stdout",
          "text": [
            "models/gemini-1.0-pro\n",
            "models/gemini-1.0-pro-001\n",
            "models/gemini-1.0-pro-latest\n",
            "models/gemini-1.0-pro-vision-latest\n",
            "models/gemini-1.5-pro-latest\n",
            "models/gemini-pro\n",
            "models/gemini-pro-vision\n"
          ]
        }
      ]
    },
    {
      "cell_type": "markdown",
      "source": [
        "Determinando os parâmetros do modelo:\n",
        "*   candidate_count: determina o número de respostas que o modelo irá devolver ao comando recebido;\n",
        "*   temperature: determina o nível de precisão da resposta gerada pelo modelo. Quanto maior a tamperatura mais criativa e quanto menor mais conservadora será a resposta.\n",
        "\n"
      ],
      "metadata": {
        "id": "OZBpOSqZDZL_"
      }
    },
    {
      "cell_type": "code",
      "source": [
        "generation_config = {\n",
        "    \"candidate_count\": 1,\n",
        "    \"temperature\": 0.5,\n",
        "}"
      ],
      "metadata": {
        "id": "NAXrxMJUDDxz"
      },
      "execution_count": 4,
      "outputs": []
    },
    {
      "cell_type": "markdown",
      "source": [
        "Inserindo as configurações de segurança:"
      ],
      "metadata": {
        "id": "qIuouyRHF3R1"
      }
    },
    {
      "cell_type": "code",
      "source": [
        "safety_settings = {\n",
        "    \"HARASSMENT\": \"BLOCK_NONE\",\n",
        "    \"HATE\": \"BLOCK_NONE\",\n",
        "    \"SEXUAL\": \"BLOCK_NONE\",\n",
        "    \"DANGEROUS\": \"BLOCK_NONE\",\n",
        "}"
      ],
      "metadata": {
        "id": "McFPHdzuF_is"
      },
      "execution_count": 5,
      "outputs": []
    },
    {
      "cell_type": "markdown",
      "source": [
        "Inicializando o modelo:"
      ],
      "metadata": {
        "id": "fKzjVY8QHFKs"
      }
    },
    {
      "cell_type": "code",
      "source": [
        "model = genai.GenerativeModel(model_name='gemini-1.0-pro',\n",
        "                              generation_config=generation_config,\n",
        "                              safety_settings=safety_settings)"
      ],
      "metadata": {
        "id": "Iv-RMWssHIDr"
      },
      "execution_count": 7,
      "outputs": []
    },
    {
      "cell_type": "markdown",
      "source": [
        "Gerando uma resposta a partir de um prompt:"
      ],
      "metadata": {
        "id": "5sHyaw4hIWAW"
      }
    },
    {
      "cell_type": "code",
      "source": [
        "response = model.generate_content(\"Me de sugestões de possíveis projetos simples que podem ser feitos com Inteligência Artificial.\")\n",
        "print(response.text)"
      ],
      "metadata": {
        "colab": {
          "base_uri": "https://localhost:8080/",
          "height": 521
        },
        "id": "SxLZbCjyIQ5O",
        "outputId": "820a95ad-b0c5-43bc-b6d7-d64eb5570589"
      },
      "execution_count": 10,
      "outputs": [
        {
          "output_type": "stream",
          "name": "stdout",
          "text": [
            "**Reconhecimento de Imagem:**\n",
            "\n",
            "* Classificador de imagens para identificar objetos em fotos\n",
            "* Detector de objetos para localizar e rastrear objetos em vídeos\n",
            "* Gerador de legendas para criar descrições automáticas de imagens\n",
            "\n",
            "**Processamento de Linguagem Natural:**\n",
            "\n",
            "* Chatbot para responder a perguntas ou fornecer suporte ao cliente\n",
            "* Resumo de texto para criar resumos concisos de documentos longos\n",
            "* Tradutor de idiomas para traduzir texto entre diferentes idiomas\n",
            "\n",
            "**Análise de Dados:**\n",
            "\n",
            "* Previsão de séries temporais para prever tendências futuras\n",
            "* Detecção de anomalias para identificar dados incomuns ou suspeitos\n",
            "* Agrupamento de clientes para segmentar clientes com base em seus comportamentos\n",
            "\n",
            "**Aprendizado de Máquina:**\n",
            "\n",
            "* Modelo de recomendação para sugerir produtos ou conteúdo aos usuários\n",
            "* Detector de fraude para identificar transações fraudulentas\n",
            "* Classificador de spam para filtrar e-mails indesejados\n",
            "\n",
            "**Outros:**\n",
            "\n",
            "* Reconhecimento facial para identificar pessoas em imagens ou vídeos\n",
            "* Geração de texto para criar texto original ou traduzir idiomas\n",
            "* Jogos de IA para desenvolver jogos desafiadores e envolventes\n"
          ]
        }
      ]
    },
    {
      "cell_type": "markdown",
      "source": [
        "Criando o chat:"
      ],
      "metadata": {
        "id": "cGr9rAXgI5Mu"
      }
    },
    {
      "cell_type": "code",
      "source": [
        "chat = model.start_chat(history=[])"
      ],
      "metadata": {
        "id": "Z7oB47pfI7pI"
      },
      "execution_count": 11,
      "outputs": []
    },
    {
      "cell_type": "markdown",
      "source": [
        "Criando a variável 'prompt' que receberá um input"
      ],
      "metadata": {
        "id": "KzHZ-8DtJYpr"
      }
    },
    {
      "cell_type": "code",
      "source": [
        "# Loop principal do chatbot.\n",
        "# O loop continua até que o usuário digite 'fim'.\n",
        "prompt = input(\"Esperando comando: \")\n",
        "\n",
        "while prompt != 'fim':\n",
        "  # Envia a mensagem do usuário para o chatbot e recebe a resposta.\n",
        "  response = chat.send_message(prompt)\n",
        "\n",
        "  # Imprime a resposta do chatbot.\n",
        "  print('Resposta: ', response.text, '\\n')\n",
        "\n",
        "  # Solicita um novo comando do usuário.\n",
        "  prompt = input(\"Esperando comando: \")"
      ],
      "metadata": {
        "colab": {
          "base_uri": "https://localhost:8080/",
          "height": 139
        },
        "id": "UDN9_EjeJfCe",
        "outputId": "199ee52d-75df-4bb6-c358-e35bfa06f186"
      },
      "execution_count": 14,
      "outputs": [
        {
          "name": "stdout",
          "output_type": "stream",
          "text": [
            "Esperando comando: Qual é a capital da coreia do sul?\n",
            "Resposta:  Seul \n",
            "\n",
            "Esperando comando: Qual é o estilo musical mais famoso deste país?\n",
            "Resposta:  K-pop (Korean pop) \n",
            "\n",
            "Esperando comando: fim\n"
          ]
        }
      ]
    },
    {
      "cell_type": "markdown",
      "source": [
        "Acessando o histórico da variável chat:"
      ],
      "metadata": {
        "id": "Onr2ImZeM9Qa"
      }
    },
    {
      "cell_type": "code",
      "source": [
        "chat.history"
      ],
      "metadata": {
        "colab": {
          "base_uri": "https://localhost:8080/"
        },
        "id": "cpvvEc5iMvHp",
        "outputId": "f9b1b256-0c94-436d-f025-296529d554a6"
      },
      "execution_count": 16,
      "outputs": [
        {
          "output_type": "execute_result",
          "data": {
            "text/plain": [
              "[parts {\n",
              "   text: \"Qual \\303\\251 a capital da coreia do sul?\"\n",
              " }\n",
              " role: \"user\",\n",
              " parts {\n",
              "   text: \"Seul\"\n",
              " }\n",
              " role: \"model\",\n",
              " parts {\n",
              "   text: \"Qual \\303\\251 o estilo musical mais famoso deste pa\\303\\255s?\"\n",
              " }\n",
              " role: \"user\",\n",
              " parts {\n",
              "   text: \"K-pop (Korean pop)\"\n",
              " }\n",
              " role: \"model\"]"
            ]
          },
          "metadata": {},
          "execution_count": 16
        }
      ]
    },
    {
      "cell_type": "markdown",
      "source": [
        "O código abaixo formata a saída de um histórico de chat. Ele usa as bibliotecas textwrap e IPython.display para:\n",
        "\n",
        "*   Indentar cada mensagem com um > para melhor legibilidade.\n",
        "*   Converter o texto da mensagem para Markdown, formatando elementos como asteriscos.\n",
        "*   Exibir a mensagem formatada, incluindo o papel (ex: \"user\" ou \"assistant\").\n",
        "*   Imprimir uma linha separadora após cada mensagem."
      ],
      "metadata": {
        "id": "S7MQO6s_NXG_"
      }
    },
    {
      "cell_type": "code",
      "source": [
        "# Melhorando a visualização\n",
        "# Código disponível em https://ai.google.dev/tutorials/python_quickstart#import_packages\n",
        "import textwrap\n",
        "from IPython.display import display\n",
        "from IPython.display import Markdown\n",
        "\n",
        "def to_markdown(text):\n",
        "  text = text.replace('*', '  *')\n",
        "  return Markdown(textwrap.indent(text, '> ', predicate=lambda _: True))\n",
        "\n",
        "# Imprimindo o histórico\n",
        "for message in chat.history:\n",
        "  display(to_markdown(f\"**{message.role}**: {message.parts[0].text}\"))\n",
        "  print('-------------------------------------------')"
      ],
      "metadata": {
        "colab": {
          "base_uri": "https://localhost:8080/",
          "height": 268
        },
        "id": "zjVe8PUDMdxw",
        "outputId": "59d8119f-f046-49cc-b41d-88d9163726d9"
      },
      "execution_count": 18,
      "outputs": [
        {
          "output_type": "display_data",
          "data": {
            "text/plain": [
              "<IPython.core.display.Markdown object>"
            ],
            "text/markdown": ">   *  *user  *  *: Qual é a capital da coreia do sul?"
          },
          "metadata": {}
        },
        {
          "output_type": "stream",
          "name": "stdout",
          "text": [
            "-------------------------------------------\n"
          ]
        },
        {
          "output_type": "display_data",
          "data": {
            "text/plain": [
              "<IPython.core.display.Markdown object>"
            ],
            "text/markdown": ">   *  *model  *  *: Seul"
          },
          "metadata": {}
        },
        {
          "output_type": "stream",
          "name": "stdout",
          "text": [
            "-------------------------------------------\n"
          ]
        },
        {
          "output_type": "display_data",
          "data": {
            "text/plain": [
              "<IPython.core.display.Markdown object>"
            ],
            "text/markdown": ">   *  *user  *  *: Qual é o estilo musical mais famoso deste país?"
          },
          "metadata": {}
        },
        {
          "output_type": "stream",
          "name": "stdout",
          "text": [
            "-------------------------------------------\n"
          ]
        },
        {
          "output_type": "display_data",
          "data": {
            "text/plain": [
              "<IPython.core.display.Markdown object>"
            ],
            "text/markdown": ">   *  *model  *  *: K-pop (Korean pop)"
          },
          "metadata": {}
        },
        {
          "output_type": "stream",
          "name": "stdout",
          "text": [
            "-------------------------------------------\n"
          ]
        }
      ]
    }
  ]
}